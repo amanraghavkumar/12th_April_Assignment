{
 "cells": [
  {
   "cell_type": "markdown",
   "id": "d0887eed",
   "metadata": {},
   "source": [
    "Q1. How does bagging reduce overfitting in decision trees?"
   ]
  },
  {
   "cell_type": "markdown",
   "id": "eec6c6f7",
   "metadata": {},
   "source": [
    "* Bagging reduces overfitting in decision trees by training multiple trees on different subsets of the data, which are created through bootstrapping (sampling with replacement). Each tree in the ensemble learns different aspects of the data, and when their predictions are combined, it helps to generalize better to new, unseen data, reducing the risk of overfitting."
   ]
  },
  {
   "cell_type": "markdown",
   "id": "aca86a14",
   "metadata": {},
   "source": [
    "Q2. What are the advantages and disadvantages of using different types of base learners in bagging?"
   ]
  },
  {
   "cell_type": "markdown",
   "id": "05a89d65",
   "metadata": {},
   "source": [
    "* Advantages:\n",
    "\n",
    "Using diverse base learners can improve the overall performance of the ensemble.\n",
    "Different learners may excel in capturing different patterns or aspects of the data.\n",
    "\n",
    "* Disadvantages:\n",
    "\n",
    "If base learners are too similar, the benefits of diversity may diminish.\n",
    "The computational complexity may increase with more diverse base learners."
   ]
  },
  {
   "cell_type": "markdown",
   "id": "1c742b91",
   "metadata": {},
   "source": [
    "Q3. How does the choice of base learner affect the bias-variance tradeoff in bagging?"
   ]
  },
  {
   "cell_type": "markdown",
   "id": "51b4943b",
   "metadata": {},
   "source": [
    "* Bagging tends to reduce variance, making the model more robust and less prone to overfitting. The bias may increase slightly due to the averaging or voting process. However, the reduction in variance often outweighs the increase in bias, leading to an overall improvement in the model's performance."
   ]
  },
  {
   "cell_type": "markdown",
   "id": "47703957",
   "metadata": {},
   "source": [
    "Q4. Can bagging be used for both classification and regression tasks? How does it differ in each case?"
   ]
  },
  {
   "cell_type": "markdown",
   "id": "d386cf2f",
   "metadata": {},
   "source": [
    "* Yes, bagging can be used for both classification and regression tasks. In both cases, multiple models are trained on different subsets of the data, and their predictions are combined. The main difference lies in the aggregation of predictions:\n",
    "* For classification, the final prediction is often the majority vote of the individual models.\n",
    "* For regression, the final prediction is usually the average of the predictions made by individual models."
   ]
  },
  {
   "cell_type": "markdown",
   "id": "a796abd5",
   "metadata": {},
   "source": [
    "Q5. What is the role of ensemble size in bagging? How many models should be included in the ensemble?"
   ]
  },
  {
   "cell_type": "markdown",
   "id": "2723c15b",
   "metadata": {},
   "source": [
    "* The ensemble size in bagging refers to the number of base learners/models in the ensemble. As the ensemble size increases, the reduction in variance becomes more pronounced, leading to better generalization. However, there is a point of diminishing returns where further increasing the ensemble size may not significantly improve performance. The optimal ensemble size depends on the specific problem and data."
   ]
  },
  {
   "cell_type": "markdown",
   "id": "7e2209db",
   "metadata": {},
   "source": [
    "Q6. Can you provide an example of a real-world application of bagging in machine learning?"
   ]
  },
  {
   "cell_type": "markdown",
   "id": "4f3f6868",
   "metadata": {},
   "source": [
    "* One real-world application of bagging is in medical diagnosis. Ensembles of decision trees (e.g., Random Forest) can be used to predict the likelihood of a particular disease based on various patient features. By aggregating predictions from multiple models, the ensemble can provide a more reliable and accurate diagnosis, minimizing the risk of misclassifying patients."
   ]
  },
  {
   "cell_type": "code",
   "execution_count": null,
   "id": "7920095b",
   "metadata": {},
   "outputs": [],
   "source": []
  }
 ],
 "metadata": {
  "kernelspec": {
   "display_name": "Python 3 (ipykernel)",
   "language": "python",
   "name": "python3"
  },
  "language_info": {
   "codemirror_mode": {
    "name": "ipython",
    "version": 3
   },
   "file_extension": ".py",
   "mimetype": "text/x-python",
   "name": "python",
   "nbconvert_exporter": "python",
   "pygments_lexer": "ipython3",
   "version": "3.10.9"
  }
 },
 "nbformat": 4,
 "nbformat_minor": 5
}
